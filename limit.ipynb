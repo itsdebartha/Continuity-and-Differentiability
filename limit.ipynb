{
 "cells": [
  {
   "cell_type": "code",
   "execution_count": null,
   "metadata": {},
   "outputs": [],
   "source": [
    "using DataFrames\n",
    "using Plots"
   ]
  },
  {
   "cell_type": "code",
   "execution_count": null,
   "metadata": {},
   "outputs": [],
   "source": [
    "lim=function (f,x=0,eps=1.0e-7)\n",
    "    i=1\n",
    "    h=0.1\n",
    "    iter=1\n",
    "    while (abs(f(x+h)-f(x-h))>=eps)\n",
    "        h/=100\n",
    "        iter+=1\n",
    "        if iter==100\n",
    "            i=0\n",
    "            break\n",
    "        end\n",
    "    end\n",
    "    if i==1\n",
    "        summary=\"Continuous\"\n",
    "        limit=round(f(x+h),digits=2)\n",
    "        #println(\"Continuous at x=$x\")\n",
    "        #println(\"Limit value: $(round(f(x+h),digits=2))\")\n",
    "        #println(\"h=$h\")\n",
    "        #println(\"Iterations=$iter\")\n",
    "    else\n",
    "        summary=\"Discontinuous\"\n",
    "        limit=\"Undefined\"\n",
    "        #println(\"Discontinuous\")\n",
    "    end\n",
    "    df=DataFrame(Expression=expr,x=x,h=h,UpperLimit=f(x+h),LowerLimit=f(x-h),Summary=summary,Limit=limit,Iterations=iter)\n",
    "    return df\n",
    "end"
   ]
  },
  {
   "cell_type": "code",
   "execution_count": null,
   "metadata": {},
   "outputs": [],
   "source": [
    "println(\"Enter a function: \")\n",
    "expr=readline()"
   ]
  },
  {
   "cell_type": "code",
   "execution_count": null,
   "metadata": {},
   "outputs": [],
   "source": [
    "println(\"Enter the point where you want to check continuity: \")\n",
    "x=parse(Float64,readline())"
   ]
  },
  {
   "cell_type": "code",
   "execution_count": null,
   "metadata": {},
   "outputs": [],
   "source": [
    "println(\"Enter a very small epsilon: \")\n",
    "eps=parse(Float64,readline())"
   ]
  },
  {
   "cell_type": "code",
   "execution_count": null,
   "metadata": {},
   "outputs": [],
   "source": [
    "f=eval(:((x)->$(Meta.parse(expr))))\n",
    "lim(f,x,eps)"
   ]
  },
  {
   "cell_type": "code",
   "execution_count": null,
   "metadata": {},
   "outputs": [],
   "source": [
    "plotlyjs()\n",
    "plot((x-5):0.2:(x+5),f.((x-5):0.2:(x+5)),label=expr)"
   ]
  }
 ],
 "metadata": {
  "kernelspec": {
   "display_name": "Julia 1.7.2",
   "language": "julia",
   "name": "julia-1.7"
  },
  "language_info": {
   "file_extension": ".jl",
   "mimetype": "application/julia",
   "name": "julia",
   "version": "1.7.2"
  },
  "orig_nbformat": 4
 },
 "nbformat": 4,
 "nbformat_minor": 2
}
